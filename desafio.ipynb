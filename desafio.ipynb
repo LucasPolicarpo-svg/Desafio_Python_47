{
 "cells": [
  {
   "cell_type": "markdown",
   "metadata": {},
   "source": [
    "1 - Acessando os dados da tabela de alunos"
   ]
  },
  {
   "cell_type": "code",
   "execution_count": 7,
   "metadata": {},
   "outputs": [
    {
     "data": {
      "text/html": [
       "<div>\n",
       "<style scoped>\n",
       "    .dataframe tbody tr th:only-of-type {\n",
       "        vertical-align: middle;\n",
       "    }\n",
       "\n",
       "    .dataframe tbody tr th {\n",
       "        vertical-align: top;\n",
       "    }\n",
       "\n",
       "    .dataframe thead th {\n",
       "        text-align: right;\n",
       "    }\n",
       "</style>\n",
       "<table border=\"1\" class=\"dataframe\">\n",
       "  <thead>\n",
       "    <tr style=\"text-align: right;\">\n",
       "      <th></th>\n",
       "      <th>Nome</th>\n",
       "      <th>Atividade</th>\n",
       "      <th>Data</th>\n",
       "      <th>Hora</th>\n",
       "    </tr>\n",
       "  </thead>\n",
       "  <tbody>\n",
       "    <tr>\n",
       "      <th>0</th>\n",
       "      <td>Maria Luiza Camargo Gonçalves</td>\n",
       "      <td>Entrou</td>\n",
       "      <td>2023-08-24</td>\n",
       "      <td>18:38:00</td>\n",
       "    </tr>\n",
       "    <tr>\n",
       "      <th>1</th>\n",
       "      <td>Izaura dos Santos Souza</td>\n",
       "      <td>Entrou</td>\n",
       "      <td>2023-08-24</td>\n",
       "      <td>18:38:00</td>\n",
       "    </tr>\n",
       "    <tr>\n",
       "      <th>2</th>\n",
       "      <td>William Lourenço de Oliveira</td>\n",
       "      <td>Entrou</td>\n",
       "      <td>2023-08-24</td>\n",
       "      <td>18:38:00</td>\n",
       "    </tr>\n",
       "    <tr>\n",
       "      <th>3</th>\n",
       "      <td>Fernando Marques dos Santos</td>\n",
       "      <td>Entrou</td>\n",
       "      <td>2023-08-24</td>\n",
       "      <td>18:38:00</td>\n",
       "    </tr>\n",
       "    <tr>\n",
       "      <th>4</th>\n",
       "      <td>Felipe de Souza Freitas</td>\n",
       "      <td>Entrou</td>\n",
       "      <td>2023-08-24</td>\n",
       "      <td>18:38:00</td>\n",
       "    </tr>\n",
       "    <tr>\n",
       "      <th>5</th>\n",
       "      <td>Felipe de Souza Freitas</td>\n",
       "      <td>Saiu</td>\n",
       "      <td>2023-08-24</td>\n",
       "      <td>19:59:00</td>\n",
       "    </tr>\n",
       "    <tr>\n",
       "      <th>6</th>\n",
       "      <td>Felipe de Souza Freitas</td>\n",
       "      <td>Entrou</td>\n",
       "      <td>2023-08-24</td>\n",
       "      <td>20:01:00</td>\n",
       "    </tr>\n",
       "    <tr>\n",
       "      <th>7</th>\n",
       "      <td>Rayssa Barros Alves</td>\n",
       "      <td>Entrou</td>\n",
       "      <td>2023-08-24</td>\n",
       "      <td>18:38:00</td>\n",
       "    </tr>\n",
       "    <tr>\n",
       "      <th>8</th>\n",
       "      <td>Carolina Aparecida Henriques Prado</td>\n",
       "      <td>Entrou</td>\n",
       "      <td>2023-08-24</td>\n",
       "      <td>18:38:00</td>\n",
       "    </tr>\n",
       "    <tr>\n",
       "      <th>9</th>\n",
       "      <td>Cauan Menezes de Matos Luiz</td>\n",
       "      <td>Entrou</td>\n",
       "      <td>2023-08-24</td>\n",
       "      <td>18:38:00</td>\n",
       "    </tr>\n",
       "    <tr>\n",
       "      <th>10</th>\n",
       "      <td>Cauan Menezes de Matos Luiz</td>\n",
       "      <td>Saiu</td>\n",
       "      <td>2023-08-24</td>\n",
       "      <td>19:22:00</td>\n",
       "    </tr>\n",
       "    <tr>\n",
       "      <th>11</th>\n",
       "      <td>Cauan Menezes de Matos Luiz</td>\n",
       "      <td>Entrou</td>\n",
       "      <td>2023-08-24</td>\n",
       "      <td>19:22:00</td>\n",
       "    </tr>\n",
       "    <tr>\n",
       "      <th>12</th>\n",
       "      <td>Hyago Martinez Rubo</td>\n",
       "      <td>Entrou</td>\n",
       "      <td>2023-08-24</td>\n",
       "      <td>18:38:00</td>\n",
       "    </tr>\n",
       "    <tr>\n",
       "      <th>13</th>\n",
       "      <td>Kaique Donizeti da Silva</td>\n",
       "      <td>Entrou</td>\n",
       "      <td>2023-08-24</td>\n",
       "      <td>18:38:00</td>\n",
       "    </tr>\n",
       "    <tr>\n",
       "      <th>14</th>\n",
       "      <td>Maria Elyza Andrade Silva</td>\n",
       "      <td>Entrou</td>\n",
       "      <td>2023-08-24</td>\n",
       "      <td>18:38:00</td>\n",
       "    </tr>\n",
       "    <tr>\n",
       "      <th>15</th>\n",
       "      <td>Maria Elyza Andrade Silva</td>\n",
       "      <td>Saiu</td>\n",
       "      <td>2023-08-24</td>\n",
       "      <td>20:16:00</td>\n",
       "    </tr>\n",
       "    <tr>\n",
       "      <th>16</th>\n",
       "      <td>Thiago Cauan de Lima Santos</td>\n",
       "      <td>Entrou</td>\n",
       "      <td>2023-08-24</td>\n",
       "      <td>18:38:00</td>\n",
       "    </tr>\n",
       "    <tr>\n",
       "      <th>17</th>\n",
       "      <td>Beatriz Lemos Soares</td>\n",
       "      <td>Entrou</td>\n",
       "      <td>2023-08-24</td>\n",
       "      <td>18:38:00</td>\n",
       "    </tr>\n",
       "  </tbody>\n",
       "</table>\n",
       "</div>"
      ],
      "text/plain": [
       "                                  Nome Atividade       Data      Hora\n",
       "0        Maria Luiza Camargo Gonçalves    Entrou 2023-08-24  18:38:00\n",
       "1              Izaura dos Santos Souza    Entrou 2023-08-24  18:38:00\n",
       "2         William Lourenço de Oliveira    Entrou 2023-08-24  18:38:00\n",
       "3          Fernando Marques dos Santos    Entrou 2023-08-24  18:38:00\n",
       "4              Felipe de Souza Freitas    Entrou 2023-08-24  18:38:00\n",
       "5              Felipe de Souza Freitas      Saiu 2023-08-24  19:59:00\n",
       "6              Felipe de Souza Freitas    Entrou 2023-08-24  20:01:00\n",
       "7                  Rayssa Barros Alves    Entrou 2023-08-24  18:38:00\n",
       "8   Carolina Aparecida Henriques Prado    Entrou 2023-08-24  18:38:00\n",
       "9          Cauan Menezes de Matos Luiz    Entrou 2023-08-24  18:38:00\n",
       "10         Cauan Menezes de Matos Luiz      Saiu 2023-08-24  19:22:00\n",
       "11         Cauan Menezes de Matos Luiz    Entrou 2023-08-24  19:22:00\n",
       "12                 Hyago Martinez Rubo    Entrou 2023-08-24  18:38:00\n",
       "13            Kaique Donizeti da Silva    Entrou 2023-08-24  18:38:00\n",
       "14           Maria Elyza Andrade Silva    Entrou 2023-08-24  18:38:00\n",
       "15           Maria Elyza Andrade Silva      Saiu 2023-08-24  20:16:00\n",
       "16         Thiago Cauan de Lima Santos    Entrou 2023-08-24  18:38:00\n",
       "17                Beatriz Lemos Soares    Entrou 2023-08-24  18:38:00"
      ]
     },
     "metadata": {},
     "output_type": "display_data"
    }
   ],
   "source": [
    "import pandas as pd \n",
    "\n",
    "tabela = pd.read_excel(\"tabela_alunos.xlsx\")\n",
    "display(tabela)"
   ]
  },
  {
   "cell_type": "markdown",
   "metadata": {},
   "source": [
    "2 - Nomes por ordem de horario de entrada"
   ]
  },
  {
   "cell_type": "code",
   "execution_count": 8,
   "metadata": {},
   "outputs": [
    {
     "name": "stdout",
     "output_type": "stream",
     "text": [
      "        Hora                                Nome\n",
      "0   18:38:00       Maria Luiza Camargo Gonçalves\n",
      "14  18:38:00           Maria Elyza Andrade Silva\n",
      "13  18:38:00            Kaique Donizeti da Silva\n",
      "12  18:38:00                 Hyago Martinez Rubo\n",
      "9   18:38:00         Cauan Menezes de Matos Luiz\n",
      "16  18:38:00         Thiago Cauan de Lima Santos\n",
      "7   18:38:00                 Rayssa Barros Alves\n",
      "8   18:38:00  Carolina Aparecida Henriques Prado\n",
      "4   18:38:00             Felipe de Souza Freitas\n",
      "3   18:38:00         Fernando Marques dos Santos\n",
      "2   18:38:00        William Lourenço de Oliveira\n",
      "1   18:38:00             Izaura dos Santos Souza\n",
      "17  18:38:00                Beatriz Lemos Soares\n"
     ]
    }
   ],
   "source": [
    "coluna_horario_entrada = 'Hora'\n",
    "tabela_ordenada = tabela.sort_values(by=coluna_horario_entrada)\n",
    "tabela_unico = tabela_ordenada.drop_duplicates(subset='Nome')\n",
    "print(tabela_unico[['Hora', 'Nome']])"
   ]
  },
  {
   "cell_type": "markdown",
   "metadata": {},
   "source": [
    "3 - Obter nomes de alunos por ordem alfabetica "
   ]
  },
  {
   "cell_type": "code",
   "execution_count": 9,
   "metadata": {},
   "outputs": [
    {
     "data": {
      "text/plain": [
       "'Beatriz Lemos Soares'"
      ]
     },
     "metadata": {},
     "output_type": "display_data"
    },
    {
     "data": {
      "text/plain": [
       "'Carolina Aparecida Henriques Prado'"
      ]
     },
     "metadata": {},
     "output_type": "display_data"
    },
    {
     "data": {
      "text/plain": [
       "'Cauan Menezes de Matos Luiz'"
      ]
     },
     "metadata": {},
     "output_type": "display_data"
    },
    {
     "data": {
      "text/plain": [
       "'Felipe de Souza Freitas'"
      ]
     },
     "metadata": {},
     "output_type": "display_data"
    },
    {
     "data": {
      "text/plain": [
       "'Fernando Marques dos Santos'"
      ]
     },
     "metadata": {},
     "output_type": "display_data"
    },
    {
     "data": {
      "text/plain": [
       "'Hyago Martinez Rubo'"
      ]
     },
     "metadata": {},
     "output_type": "display_data"
    },
    {
     "data": {
      "text/plain": [
       "'Izaura dos Santos Souza'"
      ]
     },
     "metadata": {},
     "output_type": "display_data"
    },
    {
     "data": {
      "text/plain": [
       "'Kaique Donizeti da Silva'"
      ]
     },
     "metadata": {},
     "output_type": "display_data"
    },
    {
     "data": {
      "text/plain": [
       "'Maria Elyza Andrade Silva'"
      ]
     },
     "metadata": {},
     "output_type": "display_data"
    },
    {
     "data": {
      "text/plain": [
       "'Maria Luiza Camargo Gonçalves'"
      ]
     },
     "metadata": {},
     "output_type": "display_data"
    },
    {
     "data": {
      "text/plain": [
       "'Rayssa Barros Alves'"
      ]
     },
     "metadata": {},
     "output_type": "display_data"
    },
    {
     "data": {
      "text/plain": [
       "'Thiago Cauan de Lima Santos'"
      ]
     },
     "metadata": {},
     "output_type": "display_data"
    },
    {
     "data": {
      "text/plain": [
       "'William Lourenço de Oliveira'"
      ]
     },
     "metadata": {},
     "output_type": "display_data"
    }
   ],
   "source": [
    "nomes = tabela[\"Nome\"]\n",
    "nomes_ordenados = nomes.unique()\n",
    "nomes_ordenados.sort()\n",
    "for nome in nomes_ordenados:\n",
    "    display(nome)"
   ]
  },
  {
   "cell_type": "markdown",
   "metadata": {},
   "source": [
    "4 - Numero de alunos presentes na aula"
   ]
  },
  {
   "cell_type": "code",
   "execution_count": 10,
   "metadata": {},
   "outputs": [
    {
     "name": "stdout",
     "output_type": "stream",
     "text": [
      "Consta o total de 18 alunos\n"
     ]
    }
   ],
   "source": [
    "print(f\"Consta o total de {len(tabela.index)} alunos\")"
   ]
  },
  {
   "cell_type": "markdown",
   "metadata": {},
   "source": [
    "5 - Entrada e saída de alunos em ordem alfabética."
   ]
  },
  {
   "cell_type": "code",
   "execution_count": 11,
   "metadata": {},
   "outputs": [
    {
     "data": {
      "text/html": [
       "<div>\n",
       "<style scoped>\n",
       "    .dataframe tbody tr th:only-of-type {\n",
       "        vertical-align: middle;\n",
       "    }\n",
       "\n",
       "    .dataframe tbody tr th {\n",
       "        vertical-align: top;\n",
       "    }\n",
       "\n",
       "    .dataframe thead th {\n",
       "        text-align: right;\n",
       "    }\n",
       "</style>\n",
       "<table border=\"1\" class=\"dataframe\">\n",
       "  <thead>\n",
       "    <tr style=\"text-align: right;\">\n",
       "      <th></th>\n",
       "      <th>Atividade</th>\n",
       "    </tr>\n",
       "    <tr>\n",
       "      <th>Nome</th>\n",
       "      <th></th>\n",
       "    </tr>\n",
       "  </thead>\n",
       "  <tbody>\n",
       "    <tr>\n",
       "      <th>Beatriz Lemos Soares</th>\n",
       "      <td>Entrou</td>\n",
       "    </tr>\n",
       "    <tr>\n",
       "      <th>Carolina Aparecida Henriques Prado</th>\n",
       "      <td>Entrou</td>\n",
       "    </tr>\n",
       "    <tr>\n",
       "      <th>Cauan Menezes de Matos Luiz</th>\n",
       "      <td>EntrouSaiuEntrou</td>\n",
       "    </tr>\n",
       "    <tr>\n",
       "      <th>Felipe de Souza Freitas</th>\n",
       "      <td>EntrouSaiuEntrou</td>\n",
       "    </tr>\n",
       "    <tr>\n",
       "      <th>Fernando Marques dos Santos</th>\n",
       "      <td>Entrou</td>\n",
       "    </tr>\n",
       "    <tr>\n",
       "      <th>Hyago Martinez Rubo</th>\n",
       "      <td>Entrou</td>\n",
       "    </tr>\n",
       "    <tr>\n",
       "      <th>Izaura dos Santos Souza</th>\n",
       "      <td>Entrou</td>\n",
       "    </tr>\n",
       "    <tr>\n",
       "      <th>Kaique Donizeti da Silva</th>\n",
       "      <td>Entrou</td>\n",
       "    </tr>\n",
       "    <tr>\n",
       "      <th>Maria Elyza Andrade Silva</th>\n",
       "      <td>EntrouSaiu</td>\n",
       "    </tr>\n",
       "    <tr>\n",
       "      <th>Maria Luiza Camargo Gonçalves</th>\n",
       "      <td>Entrou</td>\n",
       "    </tr>\n",
       "    <tr>\n",
       "      <th>Rayssa Barros Alves</th>\n",
       "      <td>Entrou</td>\n",
       "    </tr>\n",
       "    <tr>\n",
       "      <th>Thiago Cauan de Lima Santos</th>\n",
       "      <td>Entrou</td>\n",
       "    </tr>\n",
       "    <tr>\n",
       "      <th>William Lourenço de Oliveira</th>\n",
       "      <td>Entrou</td>\n",
       "    </tr>\n",
       "  </tbody>\n",
       "</table>\n",
       "</div>"
      ],
      "text/plain": [
       "                                           Atividade\n",
       "Nome                                                \n",
       "Beatriz Lemos Soares                          Entrou\n",
       "Carolina Aparecida Henriques Prado            Entrou\n",
       "Cauan Menezes de Matos Luiz         EntrouSaiuEntrou\n",
       "Felipe de Souza Freitas             EntrouSaiuEntrou\n",
       "Fernando Marques dos Santos                   Entrou\n",
       "Hyago Martinez Rubo                           Entrou\n",
       "Izaura dos Santos Souza                       Entrou\n",
       "Kaique Donizeti da Silva                      Entrou\n",
       "Maria Elyza Andrade Silva                 EntrouSaiu\n",
       "Maria Luiza Camargo Gonçalves                 Entrou\n",
       "Rayssa Barros Alves                           Entrou\n",
       "Thiago Cauan de Lima Santos                   Entrou\n",
       "William Lourenço de Oliveira                  Entrou"
      ]
     },
     "metadata": {},
     "output_type": "display_data"
    }
   ],
   "source": [
    "registro = tabela[[\"Nome\",\"Atividade\"]].groupby([\"Nome\"]).sum()\n",
    "display(registro)"
   ]
  },
  {
   "cell_type": "markdown",
   "metadata": {},
   "source": [
    "6 - Alunos que entraram sairam e voltaram"
   ]
  },
  {
   "cell_type": "code",
   "execution_count": 12,
   "metadata": {},
   "outputs": [
    {
     "data": {
      "text/html": [
       "<div>\n",
       "<style scoped>\n",
       "    .dataframe tbody tr th:only-of-type {\n",
       "        vertical-align: middle;\n",
       "    }\n",
       "\n",
       "    .dataframe tbody tr th {\n",
       "        vertical-align: top;\n",
       "    }\n",
       "\n",
       "    .dataframe thead th {\n",
       "        text-align: right;\n",
       "    }\n",
       "</style>\n",
       "<table border=\"1\" class=\"dataframe\">\n",
       "  <thead>\n",
       "    <tr style=\"text-align: right;\">\n",
       "      <th></th>\n",
       "      <th>Atividade</th>\n",
       "    </tr>\n",
       "    <tr>\n",
       "      <th>Nome</th>\n",
       "      <th></th>\n",
       "    </tr>\n",
       "  </thead>\n",
       "  <tbody>\n",
       "    <tr>\n",
       "      <th>Cauan Menezes de Matos Luiz</th>\n",
       "      <td>EntrouSaiuEntrou</td>\n",
       "    </tr>\n",
       "    <tr>\n",
       "      <th>Felipe de Souza Freitas</th>\n",
       "      <td>EntrouSaiuEntrou</td>\n",
       "    </tr>\n",
       "  </tbody>\n",
       "</table>\n",
       "</div>"
      ],
      "text/plain": [
       "                                    Atividade\n",
       "Nome                                         \n",
       "Cauan Menezes de Matos Luiz  EntrouSaiuEntrou\n",
       "Felipe de Souza Freitas      EntrouSaiuEntrou"
      ]
     },
     "execution_count": 12,
     "metadata": {},
     "output_type": "execute_result"
    }
   ],
   "source": [
    "registro.loc[registro[\"Atividade\"] == \"EntrouSaiuEntrou\"]"
   ]
  },
  {
   "cell_type": "markdown",
   "metadata": {},
   "source": [
    "7 - Alunos que sairam e nao voltaram."
   ]
  },
  {
   "cell_type": "code",
   "execution_count": 13,
   "metadata": {},
   "outputs": [
    {
     "data": {
      "text/html": [
       "<div>\n",
       "<style scoped>\n",
       "    .dataframe tbody tr th:only-of-type {\n",
       "        vertical-align: middle;\n",
       "    }\n",
       "\n",
       "    .dataframe tbody tr th {\n",
       "        vertical-align: top;\n",
       "    }\n",
       "\n",
       "    .dataframe thead th {\n",
       "        text-align: right;\n",
       "    }\n",
       "</style>\n",
       "<table border=\"1\" class=\"dataframe\">\n",
       "  <thead>\n",
       "    <tr style=\"text-align: right;\">\n",
       "      <th></th>\n",
       "      <th>Atividade</th>\n",
       "    </tr>\n",
       "    <tr>\n",
       "      <th>Nome</th>\n",
       "      <th></th>\n",
       "    </tr>\n",
       "  </thead>\n",
       "  <tbody>\n",
       "    <tr>\n",
       "      <th>Maria Elyza Andrade Silva</th>\n",
       "      <td>EntrouSaiu</td>\n",
       "    </tr>\n",
       "  </tbody>\n",
       "</table>\n",
       "</div>"
      ],
      "text/plain": [
       "                            Atividade\n",
       "Nome                                 \n",
       "Maria Elyza Andrade Silva  EntrouSaiu"
      ]
     },
     "execution_count": 13,
     "metadata": {},
     "output_type": "execute_result"
    }
   ],
   "source": [
    "registro.loc[registro[\"Atividade\"] == \"EntrouSaiu\"]"
   ]
  },
  {
   "cell_type": "markdown",
   "metadata": {},
   "source": [
    "8 - Gerando um gráfico com os dados da planilha."
   ]
  },
  {
   "cell_type": "code",
   "execution_count": 38,
   "metadata": {},
   "outputs": [
    {
     "data": {
      "text/plain": [
       "<Figure size 1200x600 with 0 Axes>"
      ]
     },
     "metadata": {},
     "output_type": "display_data"
    },
    {
     "data": {
      "image/png": "[encoded data removed]",
      "text/plain": [
       "<Figure size 640x480 with 1 Axes>"
      ]
     },
     "metadata": {},
     "output_type": "display_data"
    }
   ],
   "source": [
    "import matplotlib.pyplot as plt\n",
    "\n",
    "tabela['Hora'] = pd.to_datetime(tabela['Hora'], format='%H:%M:%S')\n",
    "\n",
    "# Criar um gráfico de barras empilhadas\n",
    "plt.figure(figsize=(12, 6))  # Tamanho do gráfico\n",
    "\n",
    "# Agrupar os dados por hora e contagem de atividades\n",
    "dados_agrupados = tabela.groupby(['Hora', 'Atividade']).size().unstack(fill_value=0)\n",
    "\n",
    "# Criar o gráfico de barras empilhadas\n",
    "dados_agrupados.plot(kind='barh', stacked=True)\n",
    "\n",
    "plt.xlabel('Contagem')\n",
    "plt.ylabel('Data/Hora')\n",
    "plt.title('Distribuição de Atividades (Entrou/Saiu) ao Longo do Tempo')\n",
    "plt.legend(title='Atividade', loc='upper right')\n",
    "plt.grid(True)  # Adiciona linhas de grade para melhorar a legibilidade\n",
    "plt.savefig(\"grafico_01.png\") #salvando o gráfico em um arquivo PNG\n",
    "\n",
    "plt.show()\n",
    "\n",
    "\n",
    "\n",
    "\n"
   ]
  },
  {
   "cell_type": "markdown",
   "metadata": {},
   "source": [
    "9 - Transformando esses dados em PDF"
   ]
  }
 ],
 "metadata": {
  "kernelspec": {
   "display_name": "Python 3.11.5 64-bit",
   "language": "python",
   "name": "python3"
  },
  "language_info": {
   "codemirror_mode": {
    "name": "ipython",
    "version": 3
   },
   "file_extension": ".py",
   "mimetype": "text/x-python",
   "name": "python",
   "nbconvert_exporter": "python",
   "pygments_lexer": "ipython3",
   "version": "3.11.5"
  },
  "orig_nbformat": 4,
  "vscode": {
   "interpreter": {
    "hash": "ea2f8e7e2e8e5b7d50e8edb1211b642bb93928802902cc0efa762f144d748efc"
   }
  }
 },
 "nbformat": 4,
 "nbformat_minor": 2
}
